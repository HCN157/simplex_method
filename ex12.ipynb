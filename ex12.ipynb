{
 "cells": [
  {
   "cell_type": "code",
   "execution_count": 7,
   "metadata": {},
   "outputs": [
    {
     "name": "stdout",
     "output_type": "stream",
     "text": [
      "当前第1轮,基变量指标集: [7, 8], 非基变量指标集: [1, 2, 3, 4, 5, 6]\n",
      "系数矩阵为: [[ 1  2 -1  1 -1  0  1  0]\n",
      " [-3 -1  1 -1  0  1  0  1]]\n",
      "右侧向量为: [5 4]\n",
      "判别式为: [ 2. -1.  0.  0.  1. -1.]\n",
      "进基变量指标: 2 出基变量指标: 7\n",
      "当前第2轮,基变量指标集: [2, 8], 非基变量指标集: [1, 7, 3, 4, 5, 6]\n",
      "系数矩阵为: [[ 0.5  1.  -0.5  0.5 -0.5  0.   0.5  0. ]\n",
      " [-2.5  0.   0.5 -0.5 -0.5  1.   0.5  1. ]]\n",
      "右侧向量为: [2.5 6.5]\n",
      "判别式为: [ 2.5  0.5 -0.5  0.5  0.5 -1. ]\n",
      "进基变量指标: 6 出基变量指标: 8\n",
      "当前第3轮,基变量指标集: [2, 6], 非基变量指标集: [1, 7, 3, 4, 5, 8]\n",
      "系数矩阵为: [[ 0.5  1.  -0.5  0.5 -0.5  0.   0.5  0. ]\n",
      " [-2.5  0.   0.5 -0.5 -0.5  1.   0.5  1. ]]\n",
      "右侧向量为: [2.5 6.5]\n",
      "判别式为: [0. 1. 0. 0. 0. 1.]\n",
      "问题有解,基变量指标集为: [2, 6]\n",
      "最优解为: [0.  2.5 0.  0.  0.  6.5 0.  0. ]\n"
     ]
    }
   ],
   "source": [
    "#本程序用单纯形法求解线性规划问题，在求解之前要求问题已经转化为标准问题，使用两阶段法求解的问题需要先写为辅助问题求解一次后，人工定义新的问题再次求解\n",
    "#单纯形法是迭代算法，在每一轮迭代中，本程序都将输出完整的系数矩阵、右侧向量、判别式、基变量指标集和非基变量指标集\n",
    "#请特别注意，中间过程的指标集都是有序的，因此右侧向量和判别式各分量分别与基变量指标集和非基变量指标集一一对应，单纯形表遵循以下格式：\n",
    "#假设基变量为[2,5]，非基变量指标集[1,4,6,3]，记判别式为d，系数矩阵为a，右侧向量为b\n",
    "#   x1 | x2 | x3 | x4 | x5 | x6\n",
    "#   d1 | 0  | d4 | d2 | 0  | d3\n",
    "# 2 a11| a12| a13| a14| a15| a16 | b1\n",
    "# 5 a21| a22| a23| a24| a25| a26 | b2\n",
    "#但最终输出的A, b, x都是按照正常顺序（指标从小到大）排列，这是为了方便两阶段法的计算，确保A,b与原问题的c顺序对应\n",
    "#完整算法可参考 最优化方法/杨庆之编著.-北京:科学出版社,2015, 算法2.5.5 修正单纯形法\n",
    "import numpy as np\n",
    "import simplex_method as sm\n",
    "\n",
    "#第一阶段: 求解辅助问题\n",
    "\n",
    "c = np.array([0,0,0,0,0,0,1,1])\n",
    "\n",
    "A = np.array([\n",
    "    [1, 2, -1, 1, -1, 0, 1, 0], \n",
    "    [-3, -1, 1, -1, 0, 1, 0, 1],\n",
    "])\n",
    "\n",
    "b = np.array([5, 4])\n",
    "\n",
    "IB = [6, 7]\n",
    "\n",
    "A ,b, x, IB = sm.simplex_method(A, b, c, IB)"
   ]
  },
  {
   "cell_type": "code",
   "execution_count": 8,
   "metadata": {},
   "outputs": [
    {
     "name": "stdout",
     "output_type": "stream",
     "text": [
      "当前第1轮,基变量指标集: [2, 6], 非基变量指标集: [1, 3, 4, 5]\n",
      "系数矩阵为: [[ 0.5  1.  -0.5  0.5 -0.5  0. ]\n",
      " [-2.5  0.   0.5 -0.5 -0.5  1. ]]\n",
      "右侧向量为: [2.5 6.5]\n",
      "判别式为: [ 4.5 -0.5  0.5 -1.5]\n",
      "问题有无界解\n"
     ]
    },
    {
     "ename": "TypeError",
     "evalue": "cannot unpack non-iterable NoneType object",
     "output_type": "error",
     "traceback": [
      "\u001b[1;31m---------------------------------------------------------------------------\u001b[0m",
      "\u001b[1;31mTypeError\u001b[0m                                 Traceback (most recent call last)",
      "Cell \u001b[1;32mIn[8], line 4\u001b[0m\n\u001b[0;32m      2\u001b[0m A \u001b[38;5;241m=\u001b[39m A[:, :\u001b[38;5;241m6\u001b[39m]\n\u001b[0;32m      3\u001b[0m c \u001b[38;5;241m=\u001b[39m np\u001b[38;5;241m.\u001b[39marray([\u001b[38;5;241m3\u001b[39m, \u001b[38;5;241m-\u001b[39m\u001b[38;5;241m3\u001b[39m, \u001b[38;5;241m1\u001b[39m, \u001b[38;5;241m-\u001b[39m\u001b[38;5;241m1\u001b[39m, \u001b[38;5;241m0\u001b[39m, \u001b[38;5;241m0\u001b[39m])\n\u001b[1;32m----> 4\u001b[0m A ,b, x, IB \u001b[38;5;241m=\u001b[39m sm\u001b[38;5;241m.\u001b[39msimplex_method(A, b, c, IB)\n",
      "\u001b[1;31mTypeError\u001b[0m: cannot unpack non-iterable NoneType object"
     ]
    }
   ],
   "source": [
    "# 第二阶段: 求解原问题\n",
    "A = A[:, :6]\n",
    "c = np.array([3, -3, 1, -1, 0, 0])\n",
    "A ,b, x, IB = sm.simplex_method(A, b, c, IB)"
   ]
  },
  {
   "cell_type": "code",
   "execution_count": 9,
   "metadata": {},
   "outputs": [
    {
     "name": "stdout",
     "output_type": "stream",
     "text": [
      "当前第1轮,基变量指标集: [7, 8], 非基变量指标集: [1, 2, 3, 4, 5, 6]\n",
      "系数矩阵为: [[ 1  2 -1  1 -1  0  1  0]\n",
      " [-3 -1  1 -1  0  1  0  1]]\n",
      "右侧向量为: [5 4]\n",
      "判别式为: [ 2.e+10 -1.e+10  1.e+00 -1.e+00  1.e+10 -1.e+10]\n",
      "进基变量指标: 2 出基变量指标: 7\n",
      "当前第2轮,基变量指标集: [2, 8], 非基变量指标集: [1, 7, 3, 4, 5, 6]\n",
      "系数矩阵为: [[ 0.5  1.  -0.5  0.5 -0.5  0.   0.5  0. ]\n",
      " [-2.5  0.   0.5 -0.5 -0.5  1.   0.5  1. ]]\n",
      "右侧向量为: [2.5 6.5]\n",
      "判别式为: [ 2.5e+10  5.0e+09 -5.0e+09  5.0e+09  5.0e+09 -1.0e+10]\n",
      "进基变量指标: 6 出基变量指标: 8\n",
      "当前第3轮,基变量指标集: [2, 6], 非基变量指标集: [1, 7, 3, 4, 5, 8]\n",
      "系数矩阵为: [[ 0.5  1.  -0.5  0.5 -0.5  0.   0.5  0. ]\n",
      " [-2.5  0.   0.5 -0.5 -0.5  1.   0.5  1. ]]\n",
      "右侧向量为: [2.5 6.5]\n",
      "判别式为: [ 4.5e+00  1.0e+10 -5.0e-01  5.0e-01 -1.5e+00  1.0e+10]\n",
      "问题有无界解\n"
     ]
    },
    {
     "ename": "TypeError",
     "evalue": "cannot unpack non-iterable NoneType object",
     "output_type": "error",
     "traceback": [
      "\u001b[1;31m---------------------------------------------------------------------------\u001b[0m",
      "\u001b[1;31mTypeError\u001b[0m                                 Traceback (most recent call last)",
      "Cell \u001b[1;32mIn[9], line 13\u001b[0m\n\u001b[0;32m      9\u001b[0m b \u001b[38;5;241m=\u001b[39m np\u001b[38;5;241m.\u001b[39marray([\u001b[38;5;241m5\u001b[39m, \u001b[38;5;241m4\u001b[39m])\n\u001b[0;32m     11\u001b[0m IB \u001b[38;5;241m=\u001b[39m [\u001b[38;5;241m6\u001b[39m, \u001b[38;5;241m7\u001b[39m]\n\u001b[1;32m---> 13\u001b[0m A ,b, x, IB \u001b[38;5;241m=\u001b[39m sm\u001b[38;5;241m.\u001b[39msimplex_method(A, b, c, IB)\n",
      "\u001b[1;31mTypeError\u001b[0m: cannot unpack non-iterable NoneType object"
     ]
    }
   ],
   "source": [
    "# 第三阶段：用大M法求解辅助问题\n",
    "c = np.array([3, -3, 1, -1, 0, 0, 1e10, 1e10])\n",
    "\n",
    "A = np.array([\n",
    "    [1, 2, -1, 1, -1, 0, 1, 0], \n",
    "    [-3, -1, 1, -1, 0, 1, 0, 1],\n",
    "])\n",
    "\n",
    "b = np.array([5, 4])\n",
    "\n",
    "IB = [6, 7]\n",
    "\n",
    "A ,b, x, IB = sm.simplex_method(A, b, c, IB)"
   ]
  },
  {
   "cell_type": "code",
   "execution_count": 11,
   "metadata": {},
   "outputs": [
    {
     "name": "stdout",
     "output_type": "stream",
     "text": [
      "Optimal value: None\n",
      "Optimal solution:\n",
      "None\n",
      "Solver status: The problem is unbounded. (HiGHS Status 10: model_status is Unbounded; primal_status is At upper bound)\n"
     ]
    }
   ],
   "source": [
    "import numpy as np\n",
    "from scipy.optimize import linprog\n",
    "\n",
    "# Coefficients of the objective function (3x1 - 3x2 + x3)\n",
    "# We represent x3 as x3^+ - x3^-, so the coefficients become [3, -3, 1, -1]\n",
    "c = np.array([3, -3, 1, -1])\n",
    "\n",
    "# Coefficients of the inequality constraints (LHS <= RHS)\n",
    "# Constraint 1: -x1 - 2x2 + x3 <= -5 → -x1 - 2x2 + (x3^+ - x3^-) <= -5\n",
    "# Constraint 2: -3x1 - x2 + x3 <= 4 → -3x1 - x2 + (x3^+ - x3^-) <= 4\n",
    "A_ub = np.array([\n",
    "    [-1, -2, 1, -1],  # Constraint 1\n",
    "    [-3, -1, 1, -1]   # Constraint 2\n",
    "])\n",
    "\n",
    "# Right-hand side of the inequality constraints\n",
    "b_ub = np.array([-5, 4])\n",
    "\n",
    "# Bounds for variables (x1 >= 0, x2 >= 0, x3^+ >= 0, x3^- >= 0)\n",
    "bounds = [\n",
    "    (0, None),  # x1\n",
    "    (0, None),  # x2\n",
    "    (0, None),  # x3^+\n",
    "    (0, None)   # x3^-\n",
    "]\n",
    "\n",
    "# Solve the linear program\n",
    "result = linprog(c, A_ub=A_ub, b_ub=b_ub, bounds=bounds, method='highs')\n",
    "\n",
    "# Extract the solution\n",
    "x = result.x\n",
    "\n",
    "print(\"Optimal value:\", result.fun)\n",
    "print(\"Optimal solution:\")\n",
    "print(x)\n",
    "print(\"Solver status:\", result.message)"
   ]
  }
 ],
 "metadata": {
  "kernelspec": {
   "display_name": "base",
   "language": "python",
   "name": "python3"
  },
  "language_info": {
   "codemirror_mode": {
    "name": "ipython",
    "version": 3
   },
   "file_extension": ".py",
   "mimetype": "text/x-python",
   "name": "python",
   "nbconvert_exporter": "python",
   "pygments_lexer": "ipython3",
   "version": "3.11.5"
  }
 },
 "nbformat": 4,
 "nbformat_minor": 2
}
